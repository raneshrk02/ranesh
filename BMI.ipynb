{
 "cells": [
  {
   "cell_type": "code",
   "execution_count": 1,
   "id": "b6c5c915",
   "metadata": {},
   "outputs": [
    {
     "name": "stdout",
     "output_type": "stream",
     "text": [
      "enter your height in m: 1.78\n",
      "enter weight in kg: 78\n",
      "Your BMI is 24.62\n",
      "You have normal weight\n"
     ]
    }
   ],
   "source": [
    "height = input(\"enter your height in m: \")\n",
    "weight = input(\"enter weight in kg: \")\n",
    "a = float(height)\n",
    "b = float(weight)\n",
    "bmi = float(b/(a**2))\n",
    "print(\"Your BMI is\",round(bmi,2))\n",
    "if bmi < 18.5:\n",
    "  print(\"You are underweight\")\n",
    "elif bmi >= 18.5 or bmi < 25:\n",
    "  print(\"You have normal weight\")\n",
    "elif bmi >= 25 or bmi < 30:\n",
    "  print(\"You are overweight\")\n",
    "elif bmi >= 30 or bmi < 35:\n",
    "  print(\"You are obese\")\n",
    "elif bmi >= 35:\n",
    "  print(\"You are clinically obese\")"
   ]
  }
 ],
 "metadata": {
  "kernelspec": {
   "display_name": "Python 3 (ipykernel)",
   "language": "python",
   "name": "python3"
  },
  "language_info": {
   "codemirror_mode": {
    "name": "ipython",
    "version": 3
   },
   "file_extension": ".py",
   "mimetype": "text/x-python",
   "name": "python",
   "nbconvert_exporter": "python",
   "pygments_lexer": "ipython3",
   "version": "3.10.6"
  }
 },
 "nbformat": 4,
 "nbformat_minor": 5
}
