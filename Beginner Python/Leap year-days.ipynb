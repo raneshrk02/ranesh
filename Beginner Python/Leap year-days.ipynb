{
 "cells": [
  {
   "cell_type": "code",
   "execution_count": 1,
   "id": "7e706b40",
   "metadata": {},
   "outputs": [
    {
     "name": "stdout",
     "output_type": "stream",
     "text": [
      "Year: 2020\n",
      "Month: 2\n",
      "2020 is a leap year\n",
      "Feb has 29 days\n"
     ]
    }
   ],
   "source": [
    "y = int(input(\"Year: \"))\n",
    "m = int(input(\"Month: \"))\n",
    "\n",
    "if y%4 == 0:\n",
    "  if y%100 == 0:\n",
    "    if y%400 == 0:\n",
    "      ly = \"a leap year\"\n",
    "    else:\n",
    "      ly = \"not a leap year\"\n",
    "  else:\n",
    "    ly = \"a leap year\"\n",
    "else:\n",
    "  ly = \"not a leap year\"\n",
    "\n",
    "print(f\"{y} is {ly}\")\n",
    "\n",
    "l = [31,28,31,30,31,30,31,31,30,31,30,31]\n",
    "l1 = [\"Jan\", \"Feb\", \"Mar\", \"Apr\", \"May\", \"Jun\", \"Jul\", \"Aug\", \"Sep\", \"Oct\", \"Nov\", \"Dec\"]\n",
    "if ly == \"a leap year\":\n",
    "  if m == 2:\n",
    "    print(f\"{l1[m-1]} has {l[m-1]+1} days\")\n",
    "  else:\n",
    "    print(f\"{l1[m-1]} has {l[m-1]} days\")\n",
    "else:\n",
    "  print(f\"{l1[m-1]} has {l[m-1]} days\")"
   ]
  }
 ],
 "metadata": {
  "kernelspec": {
   "display_name": "Python 3 (ipykernel)",
   "language": "python",
   "name": "python3"
  },
  "language_info": {
   "codemirror_mode": {
    "name": "ipython",
    "version": 3
   },
   "file_extension": ".py",
   "mimetype": "text/x-python",
   "name": "python",
   "nbconvert_exporter": "python",
   "pygments_lexer": "ipython3",
   "version": "3.9.13"
  }
 },
 "nbformat": 4,
 "nbformat_minor": 5
}
