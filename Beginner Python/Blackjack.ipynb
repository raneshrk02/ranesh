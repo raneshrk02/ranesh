{
 "cells": [
  {
   "cell_type": "code",
   "execution_count": 1,
   "id": "9ab04943",
   "metadata": {},
   "outputs": [
    {
     "name": "stdout",
     "output_type": "stream",
     "text": [
      "Do you want to play a game of Blackjack? y\n",
      "Your cards: [7, 2]\n",
      "Computer's card: 7\n",
      "Do you want to get another card? y\n",
      "Your final draw: [7, 2, 9]\n",
      "Computer's final draw: [7, 4]\n",
      "You Win\n",
      "Do you want to play a game of Blackjack? n\n"
     ]
    }
   ],
   "source": [
    "import random\n",
    "should_continue = True\n",
    "cards = [2,3,4,5,6,7,8,9,10,10,10,10]\n",
    "while should_continue == True:\n",
    "  start = str(input(\"Do you want to play a game of Blackjack? \")).lower()\n",
    "  if start != \"y\":\n",
    "    should_continue == False\n",
    "    break\n",
    "  else:\n",
    "    my_cards = random.sample(cards,2)\n",
    "    print(f\"Your cards: {my_cards}\")\n",
    "    computer_card = random.sample(cards,1)\n",
    "    for x in range(len(computer_card)):\n",
    "      a = computer_card[x]\n",
    "      print(f\"Computer's card: {a}\")\n",
    "    cont = str(input(\"Do you want to get another card? \")).lower()\n",
    "    if cont != \"y\":\n",
    "      computer_cards = random.sample(cards,1)\n",
    "      print(f\"Your final draw: {my_cards}\")\n",
    "      l1 = []\n",
    "      for x in range(len(computer_cards)):\n",
    "        d = computer_cards[x]\n",
    "      l1.append(d)\n",
    "      l1.append(a)\n",
    "      print(f\"Computer's final draw: {l1}\")\n",
    "      if sum(my_cards) > sum(l1):\n",
    "        print(\"You Win\")\n",
    "      elif sum(my_cards) < sum(l1):\n",
    "        print(\"Computer Wins\")\n",
    "      elif sum(my_cards) == sum(l1):\n",
    "        print(\"It's a draw\")\n",
    "      should_continue == False\n",
    "    else:\n",
    "      b = random.sample(cards,1)\n",
    "      for x in range(len(b)):\n",
    "        c = b[x]\n",
    "      my_cards.append(c)\n",
    "      print(f\"Your final draw: {my_cards}\")\n",
    "      computer_cards = random.sample(cards,1)\n",
    "      l = []\n",
    "      for x in range(len(computer_cards)):\n",
    "        c = computer_cards[x]\n",
    "      l.append(a)\n",
    "      l.append(c)\n",
    "      print(f\"Computer's final draw: {l}\")\n",
    "      if sum(my_cards) > sum(l):\n",
    "        print(\"You Win\")\n",
    "      elif sum(my_cards) < sum(l):\n",
    "        print(\"Computer Wins\")\n",
    "      elif sum(my_cards) == sum(l):\n",
    "        print(\"It's a draw\")"
   ]
  }
 ],
 "metadata": {
  "kernelspec": {
   "display_name": "Python 3 (ipykernel)",
   "language": "python",
   "name": "python3"
  },
  "language_info": {
   "codemirror_mode": {
    "name": "ipython",
    "version": 3
   },
   "file_extension": ".py",
   "mimetype": "text/x-python",
   "name": "python",
   "nbconvert_exporter": "python",
   "pygments_lexer": "ipython3",
   "version": "3.9.13"
  }
 },
 "nbformat": 4,
 "nbformat_minor": 5
}
