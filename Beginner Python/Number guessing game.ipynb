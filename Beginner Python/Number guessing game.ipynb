{
 "cells": [
  {
   "cell_type": "code",
   "execution_count": 1,
   "id": "84fb5087",
   "metadata": {},
   "outputs": [
    {
     "name": "stdout",
     "output_type": "stream",
     "text": [
      "Welcome to number guessing game!!!\n",
      "I'm thinking of a number between 1 to 100\n",
      "Choose difficulty level- 'easy' or 'medium' or 'hard': easy\n",
      "You have 10 lives to guess the number.\n",
      "Make a guess: 10\n",
      "Too low. You are left with 9 lives remaining\n",
      "Guess again\n",
      "Make a guess: 30\n",
      "Too low. You are left with 8 lives remaining\n",
      "Guess again\n",
      "Make a guess: 50\n",
      "Too low. You are left with 7 lives remaining\n",
      "Guess again\n",
      "Make a guess: 80\n",
      "You got it right!!! You got the number in 3 lives.\n"
     ]
    }
   ],
   "source": [
    "import random\n",
    "print(\"Welcome to number guessing game!!!\")\n",
    "print(\"I'm thinking of a number between 1 to 100\")\n",
    "diff = str(input(\"Choose difficulty level- 'easy' or 'medium' or 'hard': \")).lower()\n",
    "num = random.randrange(1,100)\n",
    "end = False\n",
    "if diff == \"easy\":\n",
    "  lives = 10\n",
    "  print(\"You have 10 lives to guess the number.\")\n",
    "elif diff == \"medium\":\n",
    "  lives = 8\n",
    "  print(\"You have 8 lives to guess the number.\")\n",
    "elif diff == \"hard\":\n",
    "  lives = 5\n",
    "  print(\"You have 5 lives to guess the number.\")\n",
    "while end == False:\n",
    "  if lives == 0:\n",
    "    print(f\"The number was {num}\")\n",
    "    print(\"You are out of lives!! You lose :(\")\n",
    "    break\n",
    "    end == True\n",
    "  else:\n",
    "    num_guess = int(input(\"Make a guess: \"))\n",
    "    if num_guess == num:\n",
    "      if diff == \"easy\":\n",
    "        print(f\"You got it right!!! You got the number in {10-lives} lives.\")\n",
    "      elif diff == \"medium\":\n",
    "        print(f\"You got it right!!! You got the number in {8-lives} lives.\")\n",
    "      elif diff == \"hard\":\n",
    "        print(f\"You got it right!!! You got the number in {5-lives} lives.\")\n",
    "      end == True\n",
    "      break\n",
    "    else:\n",
    "      if num_guess > num:\n",
    "        lives -= 1\n",
    "        if lives != 0:\n",
    "          print(f\"Too high. You are left with {lives} lives remaining\")\n",
    "          print(\"Guess again\")\n",
    "          continue\n",
    "      elif num_guess < num:\n",
    "        lives -= 1\n",
    "        if lives != 0:\n",
    "          print(f\"Too low. You are left with {lives} lives remaining\")\n",
    "          print(\"Guess again\")\n",
    "          continue"
   ]
  }
 ],
 "metadata": {
  "kernelspec": {
   "display_name": "Python 3 (ipykernel)",
   "language": "python",
   "name": "python3"
  },
  "language_info": {
   "codemirror_mode": {
    "name": "ipython",
    "version": 3
   },
   "file_extension": ".py",
   "mimetype": "text/x-python",
   "name": "python",
   "nbconvert_exporter": "python",
   "pygments_lexer": "ipython3",
   "version": "3.9.13"
  }
 },
 "nbformat": 4,
 "nbformat_minor": 5
}
