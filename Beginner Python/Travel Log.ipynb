{
 "cells": [
  {
   "cell_type": "code",
   "execution_count": 1,
   "id": "291d20fe",
   "metadata": {},
   "outputs": [
    {
     "name": "stdout",
     "output_type": "stream",
     "text": [
      "Input country, number of times visited and places visited: \n",
      "Russia\n",
      "2\n",
      "[\"Berlin\",\"Hamburg\"]\n",
      "[{'country': 'France', 'visits': 5, 'places': ['Paris', 'Lille', 'Dijon']}, {'country': 'India', 'visits': 10, 'places': ['Chennai', 'Banglore', 'Madurai', 'Delhi']}, {'country': 'Russia', 'visits': 2, 'places': '[\"Berlin\",\"Hamburg\"]'}]\n"
     ]
    }
   ],
   "source": [
    "travel_log = [\n",
    "{\n",
    "    \"country\" : \"France\",\n",
    "    \"visits\" : 5,\n",
    "    \"places\" : [\"Paris\", \"Lille\", \"Dijon\"]      \n",
    "},\n",
    "{\n",
    "    \"country\" : \"India\",\n",
    "    \"visits\" : 10,\n",
    "    \"places\" : [\"Chennai\", \"Banglore\", \"Madurai\", \"Delhi\"]\n",
    "}\n",
    "]\n",
    "print(\"Input country, number of times visited and places visited: \")\n",
    "a = str(input())\n",
    "b = int(input())\n",
    "c = input()\n",
    "d = {}\n",
    "d.update({\"country\" : f\"{a}\"})\n",
    "d.update({\"visits\" : b})\n",
    "d.update({\"places\" : f\"{c}\"})\n",
    "travel_log.append(d)\n",
    "print(travel_log)"
   ]
  }
 ],
 "metadata": {
  "kernelspec": {
   "display_name": "Python 3 (ipykernel)",
   "language": "python",
   "name": "python3"
  },
  "language_info": {
   "codemirror_mode": {
    "name": "ipython",
    "version": 3
   },
   "file_extension": ".py",
   "mimetype": "text/x-python",
   "name": "python",
   "nbconvert_exporter": "python",
   "pygments_lexer": "ipython3",
   "version": "3.9.13"
  }
 },
 "nbformat": 4,
 "nbformat_minor": 5
}
