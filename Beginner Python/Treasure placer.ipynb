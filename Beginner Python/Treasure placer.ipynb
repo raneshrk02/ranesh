{
 "cells": [
  {
   "cell_type": "code",
   "execution_count": 1,
   "id": "eebf2c56",
   "metadata": {},
   "outputs": [
    {
     "name": "stdout",
     "output_type": "stream",
     "text": [
      "Row number: 3\n",
      "Column number: 2\n",
      "\n",
      "Treasure is placed at ( 3 , 2 ) spot!!\n",
      "x x x\n",
      "x x x\n",
      "x $ x\n"
     ]
    }
   ],
   "source": [
    "row1 = [\"x\", \"x\", \"x\"]\n",
    "row2 = [\"x\", \"x\", \"x\"]\n",
    "row3 = [\"x\", \"x\", \"x\"]\n",
    "a = int(input(\"Row number: \"))\n",
    "b = int(input(\"Column number: \"))\n",
    "if a == 1:\n",
    "  row1[b-1] = \"$\"\n",
    "elif a == 2:\n",
    "  row2[b-1] = \"$\"\n",
    "elif a == 3:\n",
    "  row3[b-1] = \"$\"\n",
    "print(f\"\\nTreasure is placed at (\", a,\",\", b, \") spot!!\")\n",
    "print(f\"{' '.join(row1)}\")\n",
    "print(f\"{' '.join(row2)}\")\n",
    "print(f\"{' '.join(row3)}\")"
   ]
  }
 ],
 "metadata": {
  "kernelspec": {
   "display_name": "Python 3 (ipykernel)",
   "language": "python",
   "name": "python3"
  },
  "language_info": {
   "codemirror_mode": {
    "name": "ipython",
    "version": 3
   },
   "file_extension": ".py",
   "mimetype": "text/x-python",
   "name": "python",
   "nbconvert_exporter": "python",
   "pygments_lexer": "ipython3",
   "version": "3.9.13"
  }
 },
 "nbformat": 4,
 "nbformat_minor": 5
}
