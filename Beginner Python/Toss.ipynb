{
 "cells": [
  {
   "cell_type": "code",
   "execution_count": 3,
   "id": "4b9b6483",
   "metadata": {},
   "outputs": [
    {
     "name": "stdout",
     "output_type": "stream",
     "text": [
      "Choose heads or tails: Tails\n",
      "Coin shows tails\n",
      "You win\n"
     ]
    }
   ],
   "source": [
    "import random\n",
    "a = str(input(\"Choose heads or tails: \")).lower()\n",
    "if a == \"heads\":\n",
    "  b = 1\n",
    "elif a == \"tails\":\n",
    "  b = 2\n",
    "\n",
    "c = random.randint(1,2)\n",
    "\n",
    "if c == 1:\n",
    "  print(\"Coin shows heads\")\n",
    "elif c == 2:\n",
    "  print(\"Coin shows tails\")\n",
    "\n",
    "if b == c:\n",
    "  print(\"You win\")\n",
    "elif b != c:\n",
    "  print(\"You lose\")"
   ]
  }
 ],
 "metadata": {
  "kernelspec": {
   "display_name": "Python 3 (ipykernel)",
   "language": "python",
   "name": "python3"
  },
  "language_info": {
   "codemirror_mode": {
    "name": "ipython",
    "version": 3
   },
   "file_extension": ".py",
   "mimetype": "text/x-python",
   "name": "python",
   "nbconvert_exporter": "python",
   "pygments_lexer": "ipython3",
   "version": "3.10.6"
  }
 },
 "nbformat": 4,
 "nbformat_minor": 5
}
