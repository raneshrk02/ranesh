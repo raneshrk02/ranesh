{
 "cells": [
  {
   "cell_type": "code",
   "execution_count": 4,
   "id": "0f531c3c",
   "metadata": {},
   "outputs": [
    {
     "name": "stdout",
     "output_type": "stream",
     "text": [
      "What do you choose? Type 0 for rock, 1 for paper and 2 for scissors: \n",
      "0\n",
      "Computer chose: scissors\n",
      "You win\n"
     ]
    }
   ],
   "source": [
    "import random\n",
    "print(\"What do you choose? Type 0 for rock, 1 for paper and 2 for scissors: \")\n",
    "a = int(input())\n",
    "b = random.randint(0,2)\n",
    "if b == 0:\n",
    "  print(\"Computer chose: rock\")\n",
    "elif b == 1:\n",
    "  print(\"Computer chose: paper\")\n",
    "else:\n",
    "  print(\"Computer chose: scissors\")\n",
    "\n",
    "if a == b:\n",
    "  print(\"It's a draw\")\n",
    "elif (a == 0 and b == 1) or (a == 1 and b == 2) or (a == 2 and b == 0):\n",
    "  print(\"Computer Wins\")\n",
    "else:\n",
    "  print(\"You win\")"
   ]
  }
 ],
 "metadata": {
  "kernelspec": {
   "display_name": "Python 3 (ipykernel)",
   "language": "python",
   "name": "python3"
  },
  "language_info": {
   "codemirror_mode": {
    "name": "ipython",
    "version": 3
   },
   "file_extension": ".py",
   "mimetype": "text/x-python",
   "name": "python",
   "nbconvert_exporter": "python",
   "pygments_lexer": "ipython3",
   "version": "3.10.6"
  }
 },
 "nbformat": 4,
 "nbformat_minor": 5
}
