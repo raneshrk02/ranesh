{
 "cells": [
  {
   "cell_type": "code",
   "execution_count": 1,
   "id": "b2f775e8",
   "metadata": {},
   "outputs": [
    {
     "name": "stdout",
     "output_type": "stream",
     "text": [
      "What pizza would you like to order today? M\n",
      "Do you want extra pepperoni? Y\n",
      "Do you want extra cheese? Y\n",
      "\n",
      "Please pay $ 24\n"
     ]
    }
   ],
   "source": [
    "size = str(input(\"What pizza would you like to order today? \"))\n",
    "extra_pepperoni = str(input(\"Do you want extra pepperoni? \"))\n",
    "extra_cheese = str(input(\"Do you want extra cheese? \"))\n",
    "a = 0\n",
    "if size == \"S\":\n",
    "  a = 15\n",
    "  if extra_pepperoni == \"Y\":\n",
    "    a += 2\n",
    "  if extra_cheese == \"Y\":\n",
    "    a += 1\n",
    "if size == \"M\":\n",
    "  a = 20\n",
    "  if extra_pepperoni == \"Y\":\n",
    "    a += 3\n",
    "  if extra_cheese == \"Y\":\n",
    "    a += 1\n",
    "if size == \"L\":\n",
    "  a = 25\n",
    "  if extra_pepperoni == \"Y\":\n",
    "    a += 2\n",
    "  if extra_cheese == \"Y\":\n",
    "    a += 1\n",
    "\n",
    "print(f\"\\nPlease pay $\",a)"
   ]
  }
 ],
 "metadata": {
  "kernelspec": {
   "display_name": "Python 3 (ipykernel)",
   "language": "python",
   "name": "python3"
  },
  "language_info": {
   "codemirror_mode": {
    "name": "ipython",
    "version": 3
   },
   "file_extension": ".py",
   "mimetype": "text/x-python",
   "name": "python",
   "nbconvert_exporter": "python",
   "pygments_lexer": "ipython3",
   "version": "3.10.6"
  }
 },
 "nbformat": 4,
 "nbformat_minor": 5
}
