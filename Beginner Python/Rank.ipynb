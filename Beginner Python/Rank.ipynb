{
 "cells": [
  {
   "cell_type": "code",
   "execution_count": 1,
   "id": "46a6cff9",
   "metadata": {},
   "outputs": [
    {
     "name": "stdout",
     "output_type": "stream",
     "text": [
      "{'Name1': 'Outstanding', 'Name2': 'Acceptable', 'Name3': 'Exceeds Exceptation', 'Name4': 'Needs Improvement', 'Name5': 'Exceeds Exceptation'}\n"
     ]
    }
   ],
   "source": [
    "db_dict = {\n",
    "    \"Name1\" : 99,\n",
    "    \"Name2\" : 72,\n",
    "    \"Name3\" : 83,\n",
    "    \"Name4\" : 40,\n",
    "    \"Name5\" : 88\n",
    "}\n",
    "l1 = list(db_dict.values())\n",
    "l2 = list(db_dict.keys())\n",
    "for x in range(len(l1)):\n",
    "  if l1[x] >= 91 and l1[x] <= 100:\n",
    "    a = \"Outstanding\"\n",
    "  elif l1[x] < 91 and l1[x] >= 81:\n",
    "    a = \"Exceeds Exceptation\"\n",
    "  elif l1[x] < 81 and l1[x] >= 71:\n",
    "    a = \"Acceptable\"\n",
    "  elif l1[x] < 71:\n",
    "    a = \"Needs Improvement\"\n",
    "  db_dict[l2[x]] = a\n",
    "print(db_dict)"
   ]
  }
 ],
 "metadata": {
  "kernelspec": {
   "display_name": "Python 3 (ipykernel)",
   "language": "python",
   "name": "python3"
  },
  "language_info": {
   "codemirror_mode": {
    "name": "ipython",
    "version": 3
   },
   "file_extension": ".py",
   "mimetype": "text/x-python",
   "name": "python",
   "nbconvert_exporter": "python",
   "pygments_lexer": "ipython3",
   "version": "3.9.13"
  }
 },
 "nbformat": 4,
 "nbformat_minor": 5
}
