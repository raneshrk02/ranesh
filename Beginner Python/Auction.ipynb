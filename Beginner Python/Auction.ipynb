{
 "cells": [
  {
   "cell_type": "code",
   "execution_count": 1,
   "id": "ea76e93c",
   "metadata": {},
   "outputs": [
    {
     "name": "stdout",
     "output_type": "stream",
     "text": [
      "Welcome to secret auction programme!!!\n",
      "what is your name? Name1\n",
      "What is your bid? $100\n",
      "Are there any other bidders: Yes\n",
      "what is your name? Name2\n",
      "What is your bid? $200\n",
      "Are there any other bidders: Yes\n",
      "what is your name? Name3\n",
      "What is your bid? $20\n",
      "Are there any other bidders: Yes\n",
      "what is your name? Name4\n",
      "What is your bid? $5\n",
      "Are there any other bidders: No\n",
      "The maximum bid is $200 by Name2\n"
     ]
    }
   ],
   "source": [
    "print(\"Welcome to secret auction programme!!!\")\n",
    "end = False\n",
    "dict = {}\n",
    "while end == False:\n",
    "  name = input(\"what is your name? \")\n",
    "  bid = int(input(\"What is your bid? $\"))\n",
    "  bidders = input(\"Are there any other bidders: \").lower()\n",
    "  dict.update({f\"{name}\": f\"{bid}\"})\n",
    "\n",
    "  if bidders == \"no\":\n",
    "    end = True\n",
    "\n",
    "\n",
    "dict_values = dict.values()\n",
    "l1 = []\n",
    "for x in dict_values:\n",
    "  y = int(x)\n",
    "  l1.append(y)\n",
    "\n",
    "dict_name = list(dict.keys())\n",
    "\n",
    "maximum = max(l1)\n",
    "max1 = l1.index(maximum)\n",
    "names = dict_name[max1]\n",
    "print(f\"The maximum bid is ${maximum} by {names}\")"
   ]
  }
 ],
 "metadata": {
  "kernelspec": {
   "display_name": "Python 3 (ipykernel)",
   "language": "python",
   "name": "python3"
  },
  "language_info": {
   "codemirror_mode": {
    "name": "ipython",
    "version": 3
   },
   "file_extension": ".py",
   "mimetype": "text/x-python",
   "name": "python",
   "nbconvert_exporter": "python",
   "pygments_lexer": "ipython3",
   "version": "3.10.6"
  }
 },
 "nbformat": 4,
 "nbformat_minor": 5
}
