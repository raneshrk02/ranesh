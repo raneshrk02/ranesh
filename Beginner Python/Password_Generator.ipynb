{
 "cells": [
  {
   "cell_type": "code",
   "execution_count": 1,
   "id": "5ad8d0d5",
   "metadata": {},
   "outputs": [
    {
     "name": "stdout",
     "output_type": "stream",
     "text": [
      "Welome to PyPasswoard generator!\n",
      "How many letters would you have in your passwoard: 10\n",
      "How many numbers would you have in your passwoard: 4\n",
      "How many symbols would you have in your passwoard: 2\n",
      "Your password is: ZX4u4g^4Qz0M%JKy\n"
     ]
    }
   ],
   "source": [
    "import random\n",
    "letters = [\"a\",\"b\",\"c\",\"d\",\"e\",\"f\",\"g\",\"h\",\"i\",\"j\",\"k\",\"l\",\"m\",\"n\",\"o\",\"p\",\"q\",\"r\",\"s\",\"t\",\"u\",\"v\",\"w\",\"x\",\"y\",\"z\",\n",
    "           \"A\",\"B\",\"C\",\"D\",\"E\",\"F\",\"G\",\"H\",\"I\",\"J\",\"K\",\"L\",\"M\",\"N\",\"O\",\"P\",\"Q\",\"R\",\"S\",\"T\",\"U\",\"V\",\"W\",\"X\",\"Y\",\"Z\"]\n",
    "numbers = [\"0\",\"1\",\"2\",\"3\",\"4\",\"5\",\"6\",\"7\",\"8\",\"9\"]\n",
    "symbols = [\"!\",\"@\",\"#\",\"$\",\"%\",\"^\",\"&\",\"*\"]\n",
    "print(\"Welome to PyPasswoard generator!\")\n",
    "a = int(input(\"How many letters would you have in your passwoard: \"))\n",
    "b = int(input(\"How many numbers would you have in your passwoard: \"))\n",
    "c = int(input(\"How many symbols would you have in your passwoard: \"))\n",
    "\n",
    "d = []\n",
    "for x in range(1,a+1):\n",
    "  d.append(random.choice(letters))\n",
    "for x in range(1,b+1):\n",
    "  d.append(random.choice(numbers))\n",
    "for x in range(1,c+1):\n",
    "  d.append(random.choice(symbols))\n",
    "  \n",
    "random.shuffle(d)\n",
    "e = \"\"\n",
    "i = 0\n",
    "for i in d:\n",
    "  e += i\n",
    "print(\"Your password is:\",e)"
   ]
  }
 ],
 "metadata": {
  "kernelspec": {
   "display_name": "Python 3 (ipykernel)",
   "language": "python",
   "name": "python3"
  },
  "language_info": {
   "codemirror_mode": {
    "name": "ipython",
    "version": 3
   },
   "file_extension": ".py",
   "mimetype": "text/x-python",
   "name": "python",
   "nbconvert_exporter": "python",
   "pygments_lexer": "ipython3",
   "version": "3.10.6"
  }
 },
 "nbformat": 4,
 "nbformat_minor": 5
}
