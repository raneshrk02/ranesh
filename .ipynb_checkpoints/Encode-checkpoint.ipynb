{
 "cells": [
  {
   "cell_type": "code",
   "execution_count": 1,
   "id": "f1324b9a",
   "metadata": {},
   "outputs": [
    {
     "name": "stdout",
     "output_type": "stream",
     "text": [
      "Type 'encode' to encrypt, type 'decode' to decrypt: encode\n",
      "Message to encode: Hi how are you!!!!\n",
      "Type the shift number: 4\n",
      "The encoded result is lm lsa evi csy!!!!\n",
      "Type 'yes' if you want to go again. Otherwise type 'no': yes\n",
      "Type 'encode' to encrypt, type 'decode' to decrypt: decode\n",
      "Message to decode: lm lsa evi csy!!!!\n",
      "Type the shift number: 4\n",
      "The decoded result is hi how are you!!!!\n",
      "Type 'yes' if you want to go again. Otherwise type 'no': no\n",
      "Goodbye\n"
     ]
    }
   ],
   "source": [
    "alphabet = [\"a\",\"b\",\"c\",\"d\",\"e\",\"f\",\"g\",\"h\",\"i\",\"j\",\"k\",\"l\",\"m\",\n",
    "            \"n\",\"o\",\"p\",\"q\",\"r\",\"s\",\"t\",\"u\",\"v\",\"w\",\"x\",\"y\",\"z\",\n",
    "            \"a\",\"b\",\"c\",\"d\",\"e\",\"f\",\"g\",\"h\",\"i\",\"j\",\"k\",\"l\",\"m\",\n",
    "            \"n\",\"o\",\"p\",\"q\",\"r\",\"s\",\"t\",\"u\",\"v\",\"w\",\"x\",\"y\",\"z\"]\n",
    "\n",
    "should_continue = True\n",
    "\n",
    "def caesar(start_text, shift_amount, cipher_direction):\n",
    "  end_text = \"\"\n",
    "  if cipher_direction == \"decode\":\n",
    "    shift_amount *= -1\n",
    "  for char in start_text:\n",
    "    if char in alphabet:\n",
    "      position = alphabet.index(char)\n",
    "      new_position = position + shift_amount\n",
    "      end_text += alphabet[new_position]\n",
    "    else:\n",
    "      end_text += char\n",
    "  print(f\"The {cipher_direction}d result is {end_text}\")\n",
    "\n",
    "should_end = False\n",
    "\n",
    "while not should_end:\n",
    "  direction = input(\"Type 'encode' to encrypt, type 'decode' to decrypt: \").lower()\n",
    "  text = input(f\"Message to {direction}: \").lower()\n",
    "  shift = int(input(\"Type the shift number: \"))\n",
    "  shift = shift % 26\n",
    "\n",
    "  caesar(start_text=text, shift_amount=shift, cipher_direction=direction)\n",
    "\n",
    "  restart = input(\"Type 'yes' if you want to go again. Otherwise type 'no': \").lower()\n",
    "  \n",
    "  if restart == \"no\":\n",
    "    should_end = True\n",
    "    print(\"Goodbye\")"
   ]
  }
 ],
 "metadata": {
  "kernelspec": {
   "display_name": "Python 3 (ipykernel)",
   "language": "python",
   "name": "python3"
  },
  "language_info": {
   "codemirror_mode": {
    "name": "ipython",
    "version": 3
   },
   "file_extension": ".py",
   "mimetype": "text/x-python",
   "name": "python",
   "nbconvert_exporter": "python",
   "pygments_lexer": "ipython3",
   "version": "3.10.6"
  }
 },
 "nbformat": 4,
 "nbformat_minor": 5
}
