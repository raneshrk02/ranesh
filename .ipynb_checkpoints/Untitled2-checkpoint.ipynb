{
 "cells": [
  {
   "cell_type": "code",
   "execution_count": 1,
   "id": "29f53776",
   "metadata": {},
   "outputs": [
    {
     "name": "stdout",
     "output_type": "stream",
     "text": [
      "Welcome to PyCalculator!!\n",
      "Enter first number: 10\n",
      "+\n",
      "-\n",
      "*\n",
      "/\n",
      "Pick an operation: /\n",
      "Enter second number: 5\n",
      "10/5 = 2.0\n",
      "Type x to exit or c to continue: c\n",
      "Type y to continue with 2.0 else type n to start new calculation: y\n",
      "+\n",
      "-\n",
      "*\n",
      "/\n",
      "Pick an operation: +\n",
      "Enter second number: 8\n",
      "2.0+8 = 10.0\n",
      "Type x to exit or c to continue: c\n",
      "Type y to continue with 10.0 else type n to start new calculation: n\n",
      "Enter first number: 20\n",
      "+\n",
      "-\n",
      "*\n",
      "/\n",
      "Pick an operation: +\n",
      "Enter second number: 10\n",
      "20+10 = 30.0\n",
      "Type x to exit or c to continue: x\n",
      "See you next time!!\n"
     ]
    }
   ],
   "source": [
    "print(\"Welcome to PyCalculator!!\")\n",
    "shoud_continue = True\n",
    "num1 = int(input(\"Enter first number: \"))\n",
    "l = []\n",
    "l.append(num1)\n",
    "while shoud_continue == True:\n",
    "  print('+')\n",
    "  print('-')\n",
    "  print('*')\n",
    "  print('/')\n",
    "  op = input(\"Pick an operation: \")\n",
    "  num2 = int(input(\"Enter second number: \"))\n",
    "  if op == \"+\":\n",
    "    result = float(l[0]+num2)\n",
    "    print(f\"{l[0]}{op}{num2} = {result}\")\n",
    "  elif op == \"-\":\n",
    "    result = float(l[0]-num2)\n",
    "    print(f\"{l[0]}{op}{num2} = {result}\")\n",
    "  elif op == \"*\":\n",
    "    result = float(l[0]*num2)\n",
    "    print(f\"{l[0]}{op}{num2} = {result}\")\n",
    "  elif op == \"/\":\n",
    "    result = float(l[0]/num2)\n",
    "    print(f\"{l[0]}{op}{num2} = {result}\")\n",
    "  cont = str(input(\"Type x to exit or c to continue: \"))\n",
    "  if cont == \"x\":\n",
    "    shoud_continue = False\n",
    "    print(\"See you next time!!\")\n",
    "  elif cont == \"c\":\n",
    "    next = str(input(f\"Type y to continue with {result} else type n to start new calculation: \")).lower()\n",
    "    if next == \"y\":\n",
    "      l.remove(num1)\n",
    "      l.append(result)\n",
    "    else:\n",
    "      num3 = int(input(\"Enter first number: \"))\n",
    "      l.remove(l[0])\n",
    "      l.append(num3)\n",
    "      continue"
   ]
  }
 ],
 "metadata": {
  "kernelspec": {
   "display_name": "Python 3 (ipykernel)",
   "language": "python",
   "name": "python3"
  },
  "language_info": {
   "codemirror_mode": {
    "name": "ipython",
    "version": 3
   },
   "file_extension": ".py",
   "mimetype": "text/x-python",
   "name": "python",
   "nbconvert_exporter": "python",
   "pygments_lexer": "ipython3",
   "version": "3.9.13"
  }
 },
 "nbformat": 4,
 "nbformat_minor": 5
}
